{
 "cells": [
  {
   "cell_type": "markdown",
   "id": "2b66939a-e939-4ff1-9265-76734f5dcf78",
   "metadata": {},
   "source": [
    "![Top <](./images/watsonxdata.png \"watsonxdata\")"
   ]
  },
  {
   "cell_type": "markdown",
   "id": "465d7032-7d5a-4ca3-a093-ef717815be4e",
   "metadata": {},
   "source": [
    "# Python Code example\n",
    "This code will connect to watsonx.data and display some data from an existing table that was created in Presto. Note that the certificate is available in this Jupyter notebook environment in the /certs directory."
   ]
  },
  {
   "cell_type": "code",
   "execution_count": 7,
   "id": "357544ef-65b1-417b-a24b-a95cc60047cc",
   "metadata": {},
   "outputs": [],
   "source": [
    "import prestodb\n",
    "\n",
    "conn = prestodb.dbapi.connect(\n",
    "       host='localhost',\n",
    "       port=8443,\n",
    "       user='ibmlhadmin',\n",
    "       catalog='tpch',\n",
    "       schema='tiny',\n",
    "       http_scheme='https',\n",
    "       auth=prestodb.auth.BasicAuthentication(\"ibmlhadmin\", \"password\")\n",
    ")\n",
    "conn._http_session.verify = '/Users/kym/Downloads/cert.crt'\n",
    "cur = conn.cursor()"
   ]
  },
  {
   "cell_type": "markdown",
   "id": "011e4ba6-1073-4074-ad5c-3f3d027f347f",
   "metadata": {},
   "source": [
    "The next statement will execute a query and retrieve the entire result set."
   ]
  },
  {
   "cell_type": "code",
   "execution_count": 8,
   "id": "84e0b425-bff7-4c6f-92ee-17fd709cf776",
   "metadata": {},
   "outputs": [],
   "source": [
    "cur.execute(\"SELECT * FROM tpch.tiny.customer\")\n",
    "rows = cur.fetchall()"
   ]
  },
  {
   "cell_type": "markdown",
   "id": "8a3d2d9e-b74a-4d6e-9246-e5a1bd6b0211",
   "metadata": {},
   "source": [
    "#### Column Descriptions\n",
    "Use the description function to get details of the columns that are being returned by the answer set."
   ]
  },
  {
   "cell_type": "code",
   "execution_count": 9,
   "id": "9504526e-f754-4649-927c-d9c4a561300e",
   "metadata": {},
   "outputs": [
    {
     "data": {
      "text/plain": [
       "[('custkey', 'bigint', None, None, None, None, None),\n",
       " ('name', 'varchar(25)', None, None, None, None, None),\n",
       " ('address', 'varchar(40)', None, None, None, None, None),\n",
       " ('nationkey', 'bigint', None, None, None, None, None),\n",
       " ('phone', 'varchar(15)', None, None, None, None, None),\n",
       " ('acctbal', 'double', None, None, None, None, None),\n",
       " ('mktsegment', 'varchar(10)', None, None, None, None, None),\n",
       " ('comment', 'varchar(117)', None, None, None, None, None)]"
      ]
     },
     "execution_count": 9,
     "metadata": {},
     "output_type": "execute_result"
    }
   ],
   "source": [
    "cur.description"
   ]
  },
  {
   "cell_type": "markdown",
   "id": "5c172aca-b451-482d-ac96-f73b772b55e7",
   "metadata": {},
   "source": [
    "#### View Contents of the First Row"
   ]
  },
  {
   "cell_type": "code",
   "execution_count": 10,
   "id": "027cb903-9aa9-49f0-a8b4-3d024c036789",
   "metadata": {},
   "outputs": [
    {
     "data": {
      "text/plain": [
       "[751,\n",
       " 'Customer#000000751',\n",
       " 'e OSrreG6sx7l1t3wAg8u11DWk D 9',\n",
       " 0,\n",
       " '10-658-550-2257',\n",
       " 2130.98,\n",
       " 'FURNITURE',\n",
       " 'ges sleep furiously bold deposits. furiously regular requests cajole slyly. unusual accounts nag unusual ide']"
      ]
     },
     "execution_count": 10,
     "metadata": {},
     "output_type": "execute_result"
    }
   ],
   "source": [
    "rows[0]"
   ]
  },
  {
   "cell_type": "markdown",
   "id": "13ed0b4d-f702-432e-bb61-44d7c7345c97",
   "metadata": {},
   "source": [
    "#### Iterate Through the Answer Set and Display the Results"
   ]
  },
  {
   "cell_type": "code",
   "execution_count": 11,
   "id": "e69123ca-c007-4667-9199-c3ba73eb2824",
   "metadata": {},
   "outputs": [
    {
     "name": "stdout",
     "output_type": "stream",
     "text": [
      "custkey         name            address         nationkey       phone           acctbal         mktsegment      comment        \n",
      "751             Customer#000000 e OSrreG6sx7l1t 0               10-658-550-2257 2130.98         FURNITURE       ges sleep furio\n",
      "752             Customer#000000 KtdEacPUecPdPLt 8               18-924-993-6038 8363.66         MACHINERY       mong the ironic\n",
      "753             Customer#000000 9k2PLlDRbMq4oSv 17              27-817-126-3646 8114.44         HOUSEHOLD       cies. deposits \n",
      "754             Customer#000000 8r5wwhhlL9MkAxO 0               10-646-595-5871 -566.86         BUILDING        er regular acco\n",
      "755             Customer#000000 F2YYbRT2EV      16              26-395-247-2207 7631.94         HOUSEHOLD       xpress instruct\n",
      "756             Customer#000000 Lv7cG by4Wyd8Hz 14              24-267-298-7503 8116.99         AUTOMOBILE      ly unusual depo\n",
      "757             Customer#000000 VFnouow3LhLvEDy 3               13-704-408-2991 9334.82         AUTOMOBILE      riously furious\n",
      "758             Customer#000000 8fJLXfS5Zup0GQ3 17              27-175-799-9168 6352.14         HOUSEHOLD       eposits. blithe\n",
      "759             Customer#000000 IX1uj4NFhOmu0V  1               11-731-806-1019 3477.59         FURNITURE       above the quick\n"
     ]
    }
   ],
   "source": [
    "header = \"\"\n",
    "for column in cur.description:\n",
    "    if (header == \"\"):\n",
    "        header = '{!s:<15s}'.format(column[0])\n",
    "    else:\n",
    "        header = '{0} {1!s:<15s}'.format(header,column[0])\n",
    "print(header)\n",
    "\n",
    "count = 0\n",
    "for row in rows:\n",
    "    count += 1\n",
    "    line = \"\"\n",
    "    for column in row:\n",
    "        if (line == \"\"):\n",
    "            line = '{!s:<15s}'.format(column)\n",
    "        else:\n",
    "            line = '{0} {1!s:<15.15s}'.format(line,column)\n",
    "    if (count == 10):\n",
    "        break\n",
    "    print(line,end=\"\\n\")\n",
    "        "
   ]
  },
  {
   "cell_type": "code",
   "execution_count": null,
   "id": "4c721f7a-32f3-42b7-a4a0-9e9cc79aa108",
   "metadata": {},
   "outputs": [],
   "source": []
  }
 ],
 "metadata": {
  "kernelspec": {
   "display_name": "Python 3 (ipykernel)",
   "language": "python",
   "name": "python3"
  },
  "language_info": {
   "codemirror_mode": {
    "name": "ipython",
    "version": 3
   },
   "file_extension": ".py",
   "mimetype": "text/x-python",
   "name": "python",
   "nbconvert_exporter": "python",
   "pygments_lexer": "ipython3",
   "version": "3.12.6"
  }
 },
 "nbformat": 4,
 "nbformat_minor": 5
}
